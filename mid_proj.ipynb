{
 "cells": [
  {
   "cell_type": "code",
   "execution_count": 248,
   "metadata": {},
   "outputs": [],
   "source": [
    "import pandas as pd\n",
    "import numpy as np\n",
    "import matplotlib.pyplot as plt\n",
    "from scipy.stats import entropy\n",
    "\n",
    "df = pd.read_csv(\"heart_disease_health_indicators_BRFSS2015.csv\")\n"
   ]
  },
  {
   "cell_type": "code",
   "execution_count": 249,
   "metadata": {},
   "outputs": [],
   "source": [
    "df['Diabetes'] = df['Diabetes'].replace(2, 1)\n",
    "\n",
    "# construct Y column\n",
    "df['Y'] = df['HeartDiseaseorAttack'].astype(int).astype(str) + ',' + df['Diabetes'].astype(int).astype(str) + ',' + df['Stroke'].astype(int).astype(str)"
   ]
  },
  {
   "cell_type": "code",
   "execution_count": 250,
   "metadata": {},
   "outputs": [
    {
     "name": "stdout",
     "output_type": "stream",
     "text": [
      "Dimensions of the dataset :  (253680, 23)\n"
     ]
    },
    {
     "data": {
      "text/plain": [
       "Y\n",
       "0,0,0    193793\n",
       "0,1,0     29639\n",
       "1,0,0     13151\n",
       "1,1,0      6805\n",
       "0,0,1      4559\n",
       "1,0,1      2200\n",
       "0,1,1      1796\n",
       "1,1,1      1737\n",
       "Name: count, dtype: int64"
      ]
     },
     "execution_count": 250,
     "metadata": {},
     "output_type": "execute_result"
    }
   ],
   "source": [
    "print(\"Dimensions of the dataset : \", df.shape)\n",
    "df['Y'].value_counts()"
   ]
  },
  {
   "cell_type": "code",
   "execution_count": 251,
   "metadata": {},
   "outputs": [
    {
     "data": {
      "image/png": "[encoded data removed]",
      "text/plain": [
       "<Figure size 640x480 with 1 Axes>"
      ]
     },
     "metadata": {},
     "output_type": "display_data"
    }
   ],
   "source": [
    "plt.hist(df['Y'], bins=8, color='skyblue', edgecolor='black')\n",
    "plt.title('Histogram of Y')\n",
    "plt.xlabel('Y values')\n",
    "plt.ylabel('Frequency')\n",
    "plt.show()"
   ]
  },
  {
   "cell_type": "code",
   "execution_count": 252,
   "metadata": {},
   "outputs": [
    {
     "data": {
      "text/plain": [
       "array([ 9.,  7., 11., 10.,  8., 13.,  4.,  6.,  2., 12.,  5.,  1.,  3.])"
      ]
     },
     "execution_count": 252,
     "metadata": {},
     "output_type": "execute_result"
    }
   ],
   "source": [
    "df['Age'].unique()"
   ]
  },
  {
   "cell_type": "code",
   "execution_count": 253,
   "metadata": {},
   "outputs": [],
   "source": [
    "def create_age_groups(age):\n",
    "    if age in [1, 2, 3]:\n",
    "        return 'Group1(1-3)'\n",
    "    elif age in [4, 5, 6]:\n",
    "        return 'Group2(4-6)'\n",
    "    elif age in [7, 8, 9]:\n",
    "        return 'Group3(7-9)'\n",
    "    elif age in [10, 11]:\n",
    "        return 'Group4(10-11)'\n",
    "    elif age in [12, 13]:\n",
    "        return 'Group5(12-13)'\n",
    "    else:\n",
    "        print('Unknown value')\n",
    "\n",
    "\n",
    "df['Age_5Groups'] = df['Age'].apply(create_age_groups)\n",
    "# columns_to_drop = ['HeartDiseaseorAttack', 'Diabetes', 'Stroke']\n",
    "# df = df.drop(columns=columns_to_drop)\n"
   ]
  },
  {
   "cell_type": "code",
   "execution_count": 254,
   "metadata": {},
   "outputs": [
    {
     "data": {
      "text/plain": [
       "Age_5Groups\n",
       "Group3(7-9)      90390\n",
       "Group4(10-11)    55727\n",
       "Group2(4-6)      49799\n",
       "Group5(12-13)    33343\n",
       "Group1(1-3)      24421\n",
       "Name: count, dtype: int64"
      ]
     },
     "execution_count": 254,
     "metadata": {},
     "output_type": "execute_result"
    }
   ],
   "source": [
    "df['Age_5Groups'].value_counts()"
   ]
  },
  {
   "cell_type": "code",
   "execution_count": 255,
   "metadata": {},
   "outputs": [],
   "source": [
    "def one_hist(column_name):\n",
    "    group_counts = df[column_name].value_counts()\n",
    "\n",
    "    # index gives the name of the class\n",
    "    labels, counts = zip(*sorted(zip(group_counts.index, group_counts)))\n",
    "\n",
    "    plt.hist(df[column_name], bins=np.arange(len(labels)+1)-0.5, color='skyblue', edgecolor='black')\n",
    "\n",
    "    plt.xticks(range(len(labels)), labels, rotation=45)\n",
    "\n",
    "    plt.xlabel(column_name)\n",
    "    plt.ylabel('Frequency')\n",
    "\n",
    "    plt.show()\n"
   ]
  },
  {
   "cell_type": "code",
   "execution_count": 256,
   "metadata": {},
   "outputs": [],
   "source": [
    "columns_to_drop = ['HeartDiseaseorAttack', 'Diabetes', 'Stroke', 'Y']\n",
    "feature_names = df.drop(columns=columns_to_drop).columns\n",
    "\n",
    "# for columnName in feature_names:\n",
    "#     one_hist(columnName)"
   ]
  },
  {
   "cell_type": "markdown",
   "metadata": {},
   "source": [
    "# Test"
   ]
  },
  {
   "cell_type": "code",
   "execution_count": null,
   "metadata": {},
   "outputs": [],
   "source": []
  },
  {
   "cell_type": "markdown",
   "metadata": {},
   "source": [
    "# Test end"
   ]
  },
  {
   "cell_type": "code",
   "execution_count": 280,
   "metadata": {},
   "outputs": [],
   "source": [
    "def stacked_hist(df, x_var, stack_var, drop_Y000=False):\n",
    "    # calculate the data for the stack histogram\n",
    "    df_copy = df.copy()\n",
    "    if drop_Y000:\n",
    "        df_copy = df_copy[df_copy['Y'] != '0,0,0']\n",
    "        \n",
    "    stacked_data = df_copy.groupby([x_var, stack_var]).size().unstack()\n",
    "    \n",
    "    num_stacks = stacked_data.shape[1]\n",
    "    colors = plt.cm.tab10.colors[:num_stacks]\n",
    "    stacked_data.plot(kind='bar', stacked=True, color=colors, edgecolor='black')\n",
    "    \n",
    "    plt.xlabel(x_var)\n",
    "    plt.ylabel('Frequency')\n",
    "    plt.title('Stacked Histogram of ' + x_var + ' by ' + stack_var)\n",
    "    plt.xticks(rotation=45)\n",
    "    plt.show()\n",
    "\n"
   ]
  },
  {
   "cell_type": "code",
   "execution_count": 281,
   "metadata": {},
   "outputs": [
    {
     "data": {
      "image/png": "[encoded data removed]",
      "text/plain": [
       "<Figure size 640x480 with 1 Axes>"
      ]
     },
     "metadata": {},
     "output_type": "display_data"
    }
   ],
   "source": [
    "stacked_hist(df, 'Y', 'DiffWalk', drop_Y000=True)"
   ]
  },
  {
   "cell_type": "code",
   "execution_count": 259,
   "metadata": {},
   "outputs": [],
   "source": [
    "# columns_to_drop = ['HeartDiseaseorAttack', 'Diabetes', 'Stroke', 'Y']\n",
    "# feature_names = df.drop(columns=columns_to_drop).columns\n",
    "# for name in feature_names:\n",
    "#     stacked_hist(df, name, 'Age_5Groups')"
   ]
  },
  {
   "cell_type": "markdown",
   "metadata": {},
   "source": [
    "# Contingency Table"
   ]
  },
  {
   "cell_type": "code",
   "execution_count": 260,
   "metadata": {},
   "outputs": [],
   "source": [
    "def con_table(columnName, prob=False):\n",
    "    contingency_table = pd.crosstab(df[columnName], df['Y'])\n",
    "    print(\"Contingency Table:\")\n",
    "    print(contingency_table)\n",
    "\n",
    "    if prob:\n",
    "        probability_table = contingency_table.div(contingency_table.sum(axis=1), axis=0)\n",
    "        print(\"\\nProbability Table:\")\n",
    "        print(probability_table)\n",
    "\n",
    "       "
   ]
  },
  {
   "cell_type": "code",
   "execution_count": 261,
   "metadata": {},
   "outputs": [
    {
     "name": "stdout",
     "output_type": "stream",
     "text": [
      "Contingency Table:\n",
      "Y     0,0,0  0,0,1  0,1,0  0,1,1  1,0,0  1,0,1  1,1,0  1,1,1\n",
      "Sex                                                         \n",
      "0.0  111685   2724  16329   1031   5470   1080   2804    851\n",
      "1.0   82108   1835  13310    765   7681   1120   4001    886\n",
      "\n",
      "Probability Table:\n",
      "Y       0,0,0     0,0,1     0,1,0     0,1,1     1,0,0     1,0,1     1,1,0  \\\n",
      "Sex                                                                         \n",
      "0.0  0.786658  0.019187  0.115014  0.007262  0.038528  0.007607  0.019750   \n",
      "1.0  0.735037  0.016427  0.119152  0.006848  0.068761  0.010026  0.035817   \n",
      "\n",
      "Y       1,1,1  \n",
      "Sex            \n",
      "0.0  0.005994  \n",
      "1.0  0.007932  \n"
     ]
    }
   ],
   "source": [
    "con_table('Sex',True)\n"
   ]
  },
  {
   "cell_type": "code",
   "execution_count": 289,
   "metadata": {},
   "outputs": [],
   "source": [
    "def get_mutual_entropy(columnName, drop_Y000=False, merge_Ynot000=False):\n",
    "    df_copy = df.copy()\n",
    "\n",
    "    if drop_Y000:\n",
    "        df_copy = df_copy[df_copy['Y'] != '0,0,0']\n",
    "\n",
    "    if merge_Ynot000:\n",
    "        df_copy.loc[df_copy['Y'] != '0,0,0', 'Y'] = '1,1,1'\n",
    "\n",
    "    contingency_table = pd.crosstab(df_copy[columnName], df_copy['Y'])\n",
    "    total = contingency_table.values.sum()\n",
    "    probs = contingency_table.values / total\n",
    "    conditional_entropy = entropy(probs[0]) * contingency_table.iloc[0].sum() / total + entropy(probs[1]) * (contingency_table.iloc[1].sum() / total)\n",
    "\n",
    "    prob_Y = contingency_table.sum(axis=0) / total\n",
    "    entropy_Y = entropy(prob_Y)\n",
    "\n",
    "    mutual_entropy = entropy_Y - conditional_entropy\n",
    "    return mutual_entropy"
   ]
  },
  {
   "cell_type": "code",
   "execution_count": 292,
   "metadata": {},
   "outputs": [
    {
     "data": {
      "text/plain": [
       "0.03979444396651477"
      ]
     },
     "execution_count": 292,
     "metadata": {},
     "output_type": "execute_result"
    }
   ],
   "source": [
    "a = get_mutual_entropy('DiffWalk', False, False)\n",
    "a"
   ]
  },
  {
   "cell_type": "code",
   "execution_count": 262,
   "metadata": {},
   "outputs": [
    {
     "name": "stdout",
     "output_type": "stream",
     "text": [
      "Index(['HeartDiseaseorAttack', 'HighBP', 'HighChol', 'CholCheck', 'BMI',\n",
      "       'Smoker', 'Stroke', 'Diabetes', 'PhysActivity', 'Fruits', 'Veggies',\n",
      "       'HvyAlcoholConsump', 'AnyHealthcare', 'NoDocbcCost', 'GenHlth',\n",
      "       'MentHlth', 'PhysHlth', 'DiffWalk', 'Sex', 'Age', 'Education', 'Income',\n",
      "       'Y', 'Age_5Groups'],\n",
      "      dtype='object')\n"
     ]
    }
   ],
   "source": [
    "print(df.columns)"
   ]
  },
  {
   "cell_type": "code",
   "execution_count": 263,
   "metadata": {},
   "outputs": [
    {
     "name": "stdout",
     "output_type": "stream",
     "text": [
      "Contingency Table:\n"
     ]
    },
    {
     "data": {
      "text/html": [
       "<div>\n",
       "<style scoped>\n",
       "    .dataframe tbody tr th:only-of-type {\n",
       "        vertical-align: middle;\n",
       "    }\n",
       "\n",
       "    .dataframe tbody tr th {\n",
       "        vertical-align: top;\n",
       "    }\n",
       "\n",
       "    .dataframe thead th {\n",
       "        text-align: right;\n",
       "    }\n",
       "</style>\n",
       "<table border=\"1\" class=\"dataframe\">\n",
       "  <thead>\n",
       "    <tr style=\"text-align: right;\">\n",
       "      <th>Y</th>\n",
       "      <th>0,0,0</th>\n",
       "      <th>0,0,1</th>\n",
       "      <th>0,1,0</th>\n",
       "      <th>0,1,1</th>\n",
       "      <th>1,0,0</th>\n",
       "      <th>1,0,1</th>\n",
       "      <th>1,1,0</th>\n",
       "      <th>1,1,1</th>\n",
       "    </tr>\n",
       "    <tr>\n",
       "      <th>Sex</th>\n",
       "      <th></th>\n",
       "      <th></th>\n",
       "      <th></th>\n",
       "      <th></th>\n",
       "      <th></th>\n",
       "      <th></th>\n",
       "      <th></th>\n",
       "      <th></th>\n",
       "    </tr>\n",
       "  </thead>\n",
       "  <tbody>\n",
       "    <tr>\n",
       "      <th>0.0</th>\n",
       "      <td>111685</td>\n",
       "      <td>2724</td>\n",
       "      <td>16329</td>\n",
       "      <td>1031</td>\n",
       "      <td>5470</td>\n",
       "      <td>1080</td>\n",
       "      <td>2804</td>\n",
       "      <td>851</td>\n",
       "    </tr>\n",
       "    <tr>\n",
       "      <th>1.0</th>\n",
       "      <td>82108</td>\n",
       "      <td>1835</td>\n",
       "      <td>13310</td>\n",
       "      <td>765</td>\n",
       "      <td>7681</td>\n",
       "      <td>1120</td>\n",
       "      <td>4001</td>\n",
       "      <td>886</td>\n",
       "    </tr>\n",
       "  </tbody>\n",
       "</table>\n",
       "</div>"
      ],
      "text/plain": [
       "Y     0,0,0  0,0,1  0,1,0  0,1,1  1,0,0  1,0,1  1,1,0  1,1,1\n",
       "Sex                                                         \n",
       "0.0  111685   2724  16329   1031   5470   1080   2804    851\n",
       "1.0   82108   1835  13310    765   7681   1120   4001    886"
      ]
     },
     "execution_count": 263,
     "metadata": {},
     "output_type": "execute_result"
    }
   ],
   "source": [
    "contingency_table = pd.crosstab(df['Sex'], df['Y'])\n",
    "print(\"Contingency Table:\")\n",
    "contingency_table"
   ]
  },
  {
   "cell_type": "code",
   "execution_count": 273,
   "metadata": {},
   "outputs": [
    {
     "data": {
      "text/plain": [
       "0.889623575276084"
      ]
     },
     "execution_count": 273,
     "metadata": {},
     "output_type": "execute_result"
    }
   ],
   "source": [
    "prob_Y = contingency_table.sum(axis=0) / total_samples\n",
    "entropy(prob_Y)"
   ]
  },
  {
   "cell_type": "code",
   "execution_count": 264,
   "metadata": {},
   "outputs": [
    {
     "name": "stdout",
     "output_type": "stream",
     "text": [
      "Entropy: <function entropy at 0x17576a480>\n"
     ]
    }
   ],
   "source": [
    "total_samples = contingency_table.values.sum()\n",
    "probs = contingency_table.values / total_samples\n",
    "\n",
    "# 计算熵值\n",
    "entropyss = -np.sum(probs[1] * np.log2(probs[1] + 1e-10)) \n",
    "\n",
    "print(\"Entropy:\", entropy)"
   ]
  },
  {
   "cell_type": "code",
   "execution_count": 270,
   "metadata": {},
   "outputs": [
    {
     "data": {
      "text/plain": [
       "0.8856414904786564"
      ]
     },
     "execution_count": 270,
     "metadata": {},
     "output_type": "execute_result"
    }
   ],
   "source": [
    "entropy(probs[0]) * (contingency_table.iloc[0].sum() / (contingency_table.iloc[0].sum() + contingency_table.iloc[1].sum())) + entropy(probs[1]) * (contingency_table.iloc[1].sum() / (contingency_table.iloc[0].sum() + contingency_table.iloc[1].sum())) "
   ]
  },
  {
   "cell_type": "code",
   "execution_count": 242,
   "metadata": {},
   "outputs": [
    {
     "data": {
      "text/plain": [
       "array([-0.52674155, -0.0514382 , -0.22311498, -0.02525071, -0.15277135,\n",
       "       -0.03454025, -0.0944182 , -0.02850472])"
      ]
     },
     "execution_count": 242,
     "metadata": {},
     "output_type": "execute_result"
    }
   ],
   "source": [
    "probs[1] * np.log2(probs[1])"
   ]
  },
  {
   "cell_type": "code",
   "execution_count": 243,
   "metadata": {},
   "outputs": [
    {
     "data": {
      "text/plain": [
       "-0.5267415543429323"
      ]
     },
     "execution_count": 243,
     "metadata": {},
     "output_type": "execute_result"
    }
   ],
   "source": [
    "0.32366761 * np.log2(0.32366761)\n"
   ]
  },
  {
   "cell_type": "code",
   "execution_count": 268,
   "metadata": {},
   "outputs": [
    {
     "data": {
      "text/plain": [
       "253680"
      ]
     },
     "execution_count": 268,
     "metadata": {},
     "output_type": "execute_result"
    }
   ],
   "source": [
    "(contingency_table.iloc[0].sum() + contingency_table.iloc[1].sum())\n",
    "total_samples"
   ]
  }
 ],
 "metadata": {
  "kernelspec": {
   "display_name": "base",
   "language": "python",
   "name": "python3"
  },
  "language_info": {
   "codemirror_mode": {
    "name": "ipython",
    "version": 3
   },
   "file_extension": ".py",
   "mimetype": "text/x-python",
   "name": "python",
   "nbconvert_exporter": "python",
   "pygments_lexer": "ipython3",
   "version": "3.11.5"
  }
 },
 "nbformat": 4,
 "nbformat_minor": 2
}
